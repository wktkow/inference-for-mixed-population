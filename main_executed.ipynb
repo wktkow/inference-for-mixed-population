{
 "cells": [
  {
   "cell_type": "markdown",
   "id": "d5929c26",
   "metadata": {},
   "source": [
    "# AMT Homework: Inference for Mixed Populations (2024–2025)\n",
    "\n",
    "Data: `hemodialysismix.csv` and `hemodialysismix.rds` (equivalent content). Outcome of interest: number of occasions with adequate iron stores (`nriron`) out of the number of measurements (`nr`). Covariates: `AGE`, `SEX`.\n",
    "\n",
    "Notes:\n",
    "- All missing data (e.g., `NA`) are treated as valid observations and are included. No deletions.\n",
    "- Analyses follow the course notes (CAMAN VEM→EM, NPMLE gradient check) and the assignment in `task.md`.\n",
    "- Figures are saved under `figs/`.\n"
   ]
  },
  {
   "cell_type": "code",
   "execution_count": 1,
   "id": "331759a5",
   "metadata": {
    "execution": {
     "iopub.execute_input": "2025-08-22T20:22:28.281743Z",
     "iopub.status.busy": "2025-08-22T20:22:28.279963Z",
     "iopub.status.idle": "2025-08-22T20:22:28.733711Z",
     "shell.execute_reply": "2025-08-22T20:22:28.731709Z"
    },
    "vscode": {
     "languageId": "r"
    }
   },
   "outputs": [],
   "source": [
    "## 0) Setup: packages, options, directories\n",
    "suppressPackageStartupMessages({\n",
    "  library(dplyr)\n",
    "  library(ggplot2)\n",
    "  library(readr)\n",
    "  library(forcats)\n",
    "  library(jsonlite)\n",
    "})\n",
    "\n",
    "set.seed(123)\n",
    "\n",
    "dir.create(\"figs\", showWarnings = FALSE)\n",
    "\n",
    "theme_set(theme_bw(base_size = 12))\n",
    "\n",
    "options(dplyr.summarise.inform = FALSE)\n",
    "\n"
   ]
  },
  {
   "cell_type": "code",
   "execution_count": 2,
   "id": "193de65d",
   "metadata": {
    "execution": {
     "iopub.execute_input": "2025-08-22T20:22:28.783329Z",
     "iopub.status.busy": "2025-08-22T20:22:28.736710Z",
     "iopub.status.idle": "2025-08-22T20:22:29.088804Z",
     "shell.execute_reply": "2025-08-22T20:22:29.086926Z"
    },
    "vscode": {
     "languageId": "r"
    }
   },
   "outputs": [
    {
     "name": "stderr",
     "output_type": "stream",
     "text": [
      "Warning message:\n",
      "“\u001b[1m\u001b[22mThere was 1 warning in `mutate()`.\n",
      "\u001b[1m\u001b[22m\u001b[36mℹ\u001b[39m In argument: `SEX = fct_explicit_na(SEX, na_level = \"Unknown\")`.\n",
      "Caused by warning:\n",
      "\u001b[1m\u001b[22m\u001b[33m!\u001b[39m `fct_explicit_na()` was deprecated in forcats 1.0.0.\n",
      "\u001b[36mℹ\u001b[39m Please use `fct_na_value_to_level()` instead.”\n"
     ]
    },
    {
     "data": {
      "text/html": [
       "<dl>\n",
       "\t<dt>$n_rows</dt>\n",
       "\t\t<dd>3823</dd>\n",
       "\t<dt>$na_counts</dt>\n",
       "\t\t<dd><style>\n",
       ".dl-inline {width: auto; margin:0; padding: 0}\n",
       ".dl-inline>dt, .dl-inline>dd {float: none; width: auto; display: inline-block}\n",
       ".dl-inline>dt::after {content: \":\\0020\"; padding-right: .5ex}\n",
       ".dl-inline>dt:not(:first-of-type) {padding-left: .5ex}\n",
       "</style><dl class=dl-inline><dt>AGE</dt><dd>0</dd><dt>SEX</dt><dd>0</dd><dt>nriron</dt><dd>0</dd><dt>nr</dt><dd>0</dd></dl>\n",
       "</dd>\n",
       "</dl>\n"
      ],
      "text/latex": [
       "\\begin{description}\n",
       "\\item[\\$n\\_rows] 3823\n",
       "\\item[\\$na\\_counts] \\begin{description*}\n",
       "\\item[AGE] 0\n",
       "\\item[SEX] 0\n",
       "\\item[nriron] 0\n",
       "\\item[nr] 0\n",
       "\\end{description*}\n",
       "\n",
       "\\end{description}\n"
      ],
      "text/markdown": [
       "$n_rows\n",
       ":   3823\n",
       "$na_counts\n",
       ":   AGE\n",
       ":   0SEX\n",
       ":   0nriron\n",
       ":   0nr\n",
       ":   0\n",
       "\n",
       "\n",
       "\n",
       "\n"
      ],
      "text/plain": [
       "$n_rows\n",
       "[1] 3823\n",
       "\n",
       "$na_counts\n",
       "   AGE    SEX nriron     nr \n",
       "     0      0      0      0 \n"
      ]
     },
     "metadata": {},
     "output_type": "display_data"
    }
   ],
   "source": [
    "## 1) Read and prepare data (include missing as valid)\n",
    "# Prefer CSV; RDS contains the same data\n",
    "raw <- read_csv(\"hemodialysismix.csv\", show_col_types = FALSE)\n",
    "\n",
    "# Prepare variables; keep all rows (no deletions), allow nr==0\n",
    "# Treat SEX missing as explicit level \"Unknown\"; leave AGE missing but keep as is\n",
    "# Create a missingness indicator for AGE for regression later\n",
    "\n",
    "dat <- raw %>%\n",
    "  mutate(\n",
    "    SEX = factor(SEX, levels = c(1,2), labels = c(\"Male\",\"Female\")),\n",
    "    SEX = addNA(SEX),  # includes NA as a level\n",
    "    SEX = fct_explicit_na(SEX, na_level = \"Unknown\"),\n",
    "    AGE = suppressWarnings(as.numeric(AGE)),\n",
    "    age_missing = if_else(is.na(AGE), 1L, 0L),\n",
    "    AGE_imputed = if_else(is.na(AGE), NA_real_, AGE),\n",
    "    # leave imputation for model step (we will center and impute to mean with indicator)\n",
    "    prop_ok = if_else(nr > 0, nriron / nr, NA_real_)  # undefined if nr==0\n",
    "  )\n",
    "\n",
    "glue <- function(...) paste0(...)\n",
    "\n",
    "# Basic structure\n",
    "nrow_dat <- nrow(dat)\n",
    "colSums_na <- sapply(dat[,c(\"AGE\",\"SEX\",\"nriron\",\"nr\")], function(x) sum(is.na(x)))\n",
    "list(n_rows = nrow_dat, na_counts = colSums_na)\n"
   ]
  },
  {
   "cell_type": "code",
   "execution_count": 3,
   "id": "14efebde",
   "metadata": {
    "execution": {
     "iopub.execute_input": "2025-08-22T20:22:29.092795Z",
     "iopub.status.busy": "2025-08-22T20:22:29.091838Z",
     "iopub.status.idle": "2025-08-22T20:22:29.639425Z",
     "shell.execute_reply": "2025-08-22T20:22:29.637398Z"
    },
    "vscode": {
     "languageId": "r"
    }
   },
   "outputs": [
    {
     "name": "stdout",
     "output_type": "stream",
     "text": [
      "$N\n",
      "[1] 3823\n",
      "\n",
      "$AGE\n",
      "$AGE$mean\n",
      "[1] 62.15642\n",
      "\n",
      "$AGE$sd\n",
      "[1] 15.10063\n",
      "\n",
      "$AGE$min\n",
      "[1] 18\n",
      "\n",
      "$AGE$max\n",
      "[1] 99\n",
      "\n",
      "$AGE$n_missing\n",
      "[1] 0\n",
      "\n",
      "\n",
      "$SEX\n",
      "$SEX$counts\n",
      "$SEX$counts$Male\n",
      "[1] 1952\n",
      "\n",
      "$SEX$counts$Female\n",
      "[1] 1732\n",
      "\n",
      "$SEX$counts$Unknown\n",
      "[1] 139\n",
      "\n",
      "\n",
      "\n",
      "$nriron\n",
      "$nriron$mean\n",
      "[1] 0.8307612\n",
      "\n",
      "$nriron$sd\n",
      "[1] 1.099629\n",
      "\n",
      "$nriron$min\n",
      "[1] 0\n",
      "\n",
      "$nriron$max\n",
      "[1] 5\n",
      "\n",
      "\n",
      "$nr\n",
      "$nr$mean\n",
      "[1] 2.615485\n",
      "\n",
      "$nr$sd\n",
      "[1] 1.180112\n",
      "\n",
      "$nr$min\n",
      "[1] 1\n",
      "\n",
      "$nr$max\n",
      "[1] 6\n",
      "\n",
      "\n",
      "$prop_ok\n",
      "$prop_ok$mean\n",
      "[1] 0.3118275\n",
      "\n",
      "$prop_ok$sd\n",
      "[1] 0.3852721\n",
      "\n",
      "$prop_ok$min\n",
      "[1] 0\n",
      "\n",
      "$prop_ok$max\n",
      "[1] 1\n",
      "\n",
      "$prop_ok$n_missing\n",
      "[1] 0\n",
      "\n",
      "\n"
     ]
    },
    {
     "data": {
      "text/html": [
       "<strong>$figs</strong> = <ol>\n",
       "\t<li>'figs/p_hat_hist.png'</li>\n",
       "\t<li>'figs/nriron_hist.png'</li>\n",
       "\t<li>'figs/nr_hist.png'</li>\n",
       "</ol>\n"
      ],
      "text/latex": [
       "\\textbf{\\$figs} = \\begin{enumerate}\n",
       "\\item 'figs/p\\_hat\\_hist.png'\n",
       "\\item 'figs/nriron\\_hist.png'\n",
       "\\item 'figs/nr\\_hist.png'\n",
       "\\end{enumerate}\n"
      ],
      "text/markdown": [
       "**$figs** = 1. 'figs/p_hat_hist.png'\n",
       "2. 'figs/nriron_hist.png'\n",
       "3. 'figs/nr_hist.png'\n",
       "\n",
       "\n"
      ],
      "text/plain": [
       "$figs\n",
       "$figs[[1]]\n",
       "[1] \"figs/p_hat_hist.png\"\n",
       "\n",
       "$figs[[2]]\n",
       "[1] \"figs/nriron_hist.png\"\n",
       "\n",
       "$figs[[3]]\n",
       "[1] \"figs/nr_hist.png\"\n",
       "\n"
      ]
     },
     "metadata": {},
     "output_type": "display_data"
    }
   ],
   "source": [
    "## 1.1) Descriptive statistics (no modeling)\n",
    "# Summary for numeric variables and counts for factors\n",
    "summ <- list(\n",
    "  N = nrow(dat),\n",
    "  AGE = list(mean = mean(dat$AGE, na.rm = TRUE), sd = sd(dat$AGE, na.rm = TRUE),\n",
    "             min = min(dat$AGE, na.rm = TRUE), max = max(dat$AGE, na.rm = TRUE),\n",
    "             n_missing = sum(is.na(dat$AGE))),\n",
    "  SEX = list(counts = as.list(table(dat$SEX, useNA = \"ifany\"))),\n",
    "  nriron = list(mean = mean(dat$nriron, na.rm = TRUE), sd = sd(dat$nriron, na.rm = TRUE),\n",
    "                min = min(dat$nriron, na.rm = TRUE), max = max(dat$nriron, na.rm = TRUE)),\n",
    "  nr = list(mean = mean(dat$nr, na.rm = TRUE), sd = sd(dat$nr, na.rm = TRUE),\n",
    "            min = min(dat$nr, na.rm = TRUE), max = max(dat$nr, na.rm = TRUE)),\n",
    "  prop_ok = list(mean = mean(dat$prop_ok, na.rm = TRUE), sd = sd(dat$prop_ok, na.rm = TRUE),\n",
    "                 min = min(dat$prop_ok, na.rm = TRUE), max = max(dat$prop_ok, na.rm = TRUE),\n",
    "                 n_missing = sum(is.na(dat$prop_ok)))\n",
    ")\n",
    "print(summ)\n",
    "\n",
    "# Histograms: proportion (density of adequate iron stores), counts, number of measurements\n",
    "p1 <- ggplot(dat, aes(x = prop_ok)) +\n",
    "  geom_histogram(bins = 30, color = \"white\") +\n",
    "  labs(x = \"nriron / nr (proportion adequate)\", y = \"Number of patients\",\n",
    "       title = \"Proportion of adequate iron stores\")\n",
    "\n",
    "ggsave(\"figs/p_hat_hist.png\", p1, width = 7, height = 4.5, dpi = 150)\n",
    "\n",
    "p2 <- ggplot(dat, aes(x = nriron)) +\n",
    "  geom_histogram(binwidth = 1, boundary = -0.5, color = \"white\") +\n",
    "  scale_x_continuous(breaks = 0:max(dat$nriron, na.rm = TRUE)) +\n",
    "  labs(x = \"Number of occasions with adequate iron stores (nriron)\", y = \"Number of patients\",\n",
    "       title = \"Counts of adequate iron stores\")\n",
    "\n",
    "ggsave(\"figs/nriron_hist.png\", p2, width = 7, height = 4.5, dpi = 150)\n",
    "\n",
    "p3 <- ggplot(dat, aes(x = nr)) +\n",
    "  geom_histogram(binwidth = 1, boundary = -0.5, color = \"white\") +\n",
    "  scale_x_continuous(breaks = 0:max(dat$nr, na.rm = TRUE)) +\n",
    "  labs(x = \"Number of measurements (nr)\", y = \"Number of patients\",\n",
    "       title = \"Distribution of number of measurements\")\n",
    "\n",
    "ggsave(\"figs/nr_hist.png\", p3, width = 7, height = 4.5, dpi = 150)\n",
    "\n",
    "list(figs = list(\"figs/p_hat_hist.png\",\"figs/nriron_hist.png\",\"figs/nr_hist.png\"))\n"
   ]
  },
  {
   "cell_type": "code",
   "execution_count": 4,
   "id": "9f0365ca",
   "metadata": {
    "execution": {
     "iopub.execute_input": "2025-08-22T20:22:29.644591Z",
     "iopub.status.busy": "2025-08-22T20:22:29.643096Z",
     "iopub.status.idle": "2025-08-22T20:22:29.765185Z",
     "shell.execute_reply": "2025-08-22T20:22:29.764028Z"
    },
    "vscode": {
     "languageId": "r"
    }
   },
   "outputs": [
    {
     "data": {
      "text/html": [
       "<dl>\n",
       "\t<dt>$intercept_only</dt>\n",
       "\t\t<dd><table class=\"dataframe\">\n",
       "<caption>A matrix: 1 × 4 of type dbl</caption>\n",
       "<thead>\n",
       "\t<tr><th></th><th scope=col>Estimate</th><th scope=col>Std. Error</th><th scope=col>z value</th><th scope=col>Pr(&gt;|z|)</th></tr>\n",
       "</thead>\n",
       "<tbody>\n",
       "\t<tr><th scope=row>(Intercept)</th><td>-0.7646767</td><td>0.02148012</td><td>-35.59928</td><td>1.437333e-277</td></tr>\n",
       "</tbody>\n",
       "</table>\n",
       "</dd>\n",
       "\t<dt>$pearson_dispersion</dt>\n",
       "\t\t<dd>1.64281238610648</dd>\n",
       "</dl>\n"
      ],
      "text/latex": [
       "\\begin{description}\n",
       "\\item[\\$intercept\\_only] A matrix: 1 × 4 of type dbl\n",
       "\\begin{tabular}{r|llll}\n",
       "  & Estimate & Std. Error & z value & Pr(>\\textbar{}z\\textbar{})\\\\\n",
       "\\hline\n",
       "\t(Intercept) & -0.7646767 & 0.02148012 & -35.59928 & 1.437333e-277\\\\\n",
       "\\end{tabular}\n",
       "\n",
       "\\item[\\$pearson\\_dispersion] 1.64281238610648\n",
       "\\end{description}\n"
      ],
      "text/markdown": [
       "$intercept_only\n",
       ":   \n",
       "A matrix: 1 × 4 of type dbl\n",
       "\n",
       "| <!--/--> | Estimate | Std. Error | z value | Pr(&gt;|z|) |\n",
       "|---|---|---|---|---|\n",
       "| (Intercept) | -0.7646767 | 0.02148012 | -35.59928 | 1.437333e-277 |\n",
       "\n",
       "\n",
       "$pearson_dispersion\n",
       ":   1.64281238610648\n",
       "\n",
       "\n"
      ],
      "text/plain": [
       "$intercept_only\n",
       "              Estimate Std. Error   z value      Pr(>|z|)\n",
       "(Intercept) -0.7646767 0.02148012 -35.59928 1.437333e-277\n",
       "\n",
       "$pearson_dispersion\n",
       "[1] 1.642812\n"
      ]
     },
     "metadata": {},
     "output_type": "display_data"
    }
   ],
   "source": [
    "## 2) Intercept-only Binomial GLM; Pearson dispersion\n",
    "# Include all rows; if nr==0, Binomial contribution is undefined, so we set weights=0\n",
    "# But assignment asks to include missing/NA; keep rows but ensure modeling is well-defined\n",
    "\n",
    "dat_glm0 <- dat %>% mutate(\n",
    "  y_success = nriron,\n",
    "  y_failure = pmax(nr - nriron, 0L),\n",
    "  w = if_else(nr > 0 & !is.na(y_success) & !is.na(y_failure), 1, 0)\n",
    ")\n",
    "\n",
    "m_bin0 <- glm(cbind(y_success, y_failure) ~ 1,\n",
    "              family = binomial(), data = dat_glm0, weights = w)\n",
    "\n",
    "pearson_r <- residuals(m_bin0, type = \"pearson\")\n",
    "phi <- sum(pearson_r^2, na.rm = TRUE) / df.residual(m_bin0)\n",
    "\n",
    "list(\n",
    "  intercept_only = coef(summary(m_bin0)),\n",
    "  pearson_dispersion = unname(phi)\n",
    ")\n",
    "\n"
   ]
  },
  {
   "cell_type": "code",
   "execution_count": 5,
   "id": "09d944e7",
   "metadata": {
    "execution": {
     "iopub.execute_input": "2025-08-22T20:22:29.768014Z",
     "iopub.status.busy": "2025-08-22T20:22:29.767191Z",
     "iopub.status.idle": "2025-08-22T20:22:29.869084Z",
     "shell.execute_reply": "2025-08-22T20:22:29.850413Z"
    },
    "vscode": {
     "languageId": "r"
    }
   },
   "outputs": [
    {
     "data": {
      "text/html": [
       "<dl>\n",
       "\t<dt>$covariate_model</dt>\n",
       "\t\t<dd><table class=\"dataframe\">\n",
       "<caption>A matrix: 4 × 4 of type dbl</caption>\n",
       "<thead>\n",
       "\t<tr><th></th><th scope=col>Estimate</th><th scope=col>Std. Error</th><th scope=col>z value</th><th scope=col>Pr(&gt;|z|)</th></tr>\n",
       "</thead>\n",
       "<tbody>\n",
       "\t<tr><th scope=row>(Intercept)</th><td>-0.819904526</td><td>0.094014248</td><td>-8.721067</td><td>2.755931e-18</td></tr>\n",
       "\t<tr><th scope=row>AGE_imp</th><td> 0.001401946</td><td>0.001437117</td><td> 0.975527</td><td>3.292989e-01</td></tr>\n",
       "\t<tr><th scope=row>SEXFemale</th><td>-0.068891461</td><td>0.043837910</td><td>-1.571504</td><td>1.160656e-01</td></tr>\n",
       "\t<tr><th scope=row>SEXUnknown</th><td>-0.024921578</td><td>0.119876951</td><td>-0.207893</td><td>8.353125e-01</td></tr>\n",
       "</tbody>\n",
       "</table>\n",
       "</dd>\n",
       "\t<dt>$pearson_dispersion</dt>\n",
       "\t\t<dd>1.64391699090971</dd>\n",
       "</dl>\n"
      ],
      "text/latex": [
       "\\begin{description}\n",
       "\\item[\\$covariate\\_model] A matrix: 4 × 4 of type dbl\n",
       "\\begin{tabular}{r|llll}\n",
       "  & Estimate & Std. Error & z value & Pr(>\\textbar{}z\\textbar{})\\\\\n",
       "\\hline\n",
       "\t(Intercept) & -0.819904526 & 0.094014248 & -8.721067 & 2.755931e-18\\\\\n",
       "\tAGE\\_imp &  0.001401946 & 0.001437117 &  0.975527 & 3.292989e-01\\\\\n",
       "\tSEXFemale & -0.068891461 & 0.043837910 & -1.571504 & 1.160656e-01\\\\\n",
       "\tSEXUnknown & -0.024921578 & 0.119876951 & -0.207893 & 8.353125e-01\\\\\n",
       "\\end{tabular}\n",
       "\n",
       "\\item[\\$pearson\\_dispersion] 1.64391699090971\n",
       "\\end{description}\n"
      ],
      "text/markdown": [
       "$covariate_model\n",
       ":   \n",
       "A matrix: 4 × 4 of type dbl\n",
       "\n",
       "| <!--/--> | Estimate | Std. Error | z value | Pr(&gt;|z|) |\n",
       "|---|---|---|---|---|\n",
       "| (Intercept) | -0.819904526 | 0.094014248 | -8.721067 | 2.755931e-18 |\n",
       "| AGE_imp |  0.001401946 | 0.001437117 |  0.975527 | 3.292989e-01 |\n",
       "| SEXFemale | -0.068891461 | 0.043837910 | -1.571504 | 1.160656e-01 |\n",
       "| SEXUnknown | -0.024921578 | 0.119876951 | -0.207893 | 8.353125e-01 |\n",
       "\n",
       "\n",
       "$pearson_dispersion\n",
       ":   1.64391699090971\n",
       "\n",
       "\n"
      ],
      "text/plain": [
       "$covariate_model\n",
       "                Estimate  Std. Error   z value     Pr(>|z|)\n",
       "(Intercept) -0.819904526 0.094014248 -8.721067 2.755931e-18\n",
       "AGE_imp      0.001401946 0.001437117  0.975527 3.292989e-01\n",
       "SEXFemale   -0.068891461 0.043837910 -1.571504 1.160656e-01\n",
       "SEXUnknown  -0.024921578 0.119876951 -0.207893 8.353125e-01\n",
       "\n",
       "$pearson_dispersion\n",
       "[1] 1.643917\n"
      ]
     },
     "metadata": {},
     "output_type": "display_data"
    }
   ],
   "source": [
    "## 3) Binomial GLM with covariates (AGE, SEX); compare dispersion\n",
    "# Handle AGE missing by mean-imputation plus missingness indicator to keep all rows\n",
    "mu_age <- mean(dat$AGE, na.rm = TRUE)\n",
    "\n",
    "dat_glmX <- dat %>% mutate(\n",
    "  AGE_imp = if_else(is.na(AGE), mu_age, AGE),\n",
    "  y_success = nriron,\n",
    "  y_failure = pmax(nr - nriron, 0L),\n",
    "  w = if_else(nr > 0 & !is.na(y_success) & !is.na(y_failure), 1, 0)\n",
    ")\n",
    "\n",
    "m_binX <- glm(cbind(y_success, y_failure) ~ AGE_imp + age_missing + SEX,\n",
    "              family = binomial(), data = dat_glmX, weights = w)\n",
    "\n",
    "phi_X <- {\n",
    "  rp <- residuals(m_binX, type = \"pearson\")\n",
    "  sum(rp^2, na.rm = TRUE) / df.residual(m_binX)\n",
    "}\n",
    "\n",
    "list(\n",
    "  covariate_model = coef(summary(m_binX)),\n",
    "  pearson_dispersion = unname(phi_X)\n",
    ")\n"
   ]
  },
  {
   "cell_type": "code",
   "execution_count": 6,
   "id": "0cfee53e",
   "metadata": {
    "execution": {
     "iopub.execute_input": "2025-08-22T20:22:29.877050Z",
     "iopub.status.busy": "2025-08-22T20:22:29.874893Z",
     "iopub.status.idle": "2025-08-22T20:22:29.936219Z",
     "shell.execute_reply": "2025-08-22T20:22:29.930959Z"
    },
    "vscode": {
     "languageId": "r"
    }
   },
   "outputs": [
    {
     "name": "stderr",
     "output_type": "stream",
     "text": [
      "CAMAN not available in this runtime. Mixture steps will be skipped. The code is ready and will run where CAMAN is installed.\n",
      "\n"
     ]
    },
    {
     "data": {
      "text/html": [
       "<dl>\n",
       "\t<dt>$vem_summary</dt>\n",
       "\t\t<dd>NULL</dd>\n",
       "\t<dt>$em_from_vem</dt>\n",
       "\t\t<dd>NULL</dd>\n",
       "\t<dt>$npml</dt>\n",
       "\t\t<dd>NULL</dd>\n",
       "</dl>\n"
      ],
      "text/latex": [
       "\\begin{description}\n",
       "\\item[\\$vem\\_summary] NULL\n",
       "\\item[\\$em\\_from\\_vem] NULL\n",
       "\\item[\\$npml] NULL\n",
       "\\end{description}\n"
      ],
      "text/markdown": [
       "$vem_summary\n",
       ":   NULL\n",
       "$em_from_vem\n",
       ":   NULL\n",
       "$npml\n",
       ":   NULL\n",
       "\n",
       "\n"
      ],
      "text/plain": [
       "$vem_summary\n",
       "NULL\n",
       "\n",
       "$em_from_vem\n",
       "NULL\n",
       "\n",
       "$npml\n",
       "NULL\n"
      ]
     },
     "metadata": {},
     "output_type": "display_data"
    }
   ],
   "source": [
    "## 4) CAMAN: Binomial mixture via VEM → EM and direct mixalg\n",
    "# Use the counts (nriron) with trials (nr)\n",
    "# Keep all rows; CAMAN naturally accommodates different ni. We keep rows with nr==0 as well.\n",
    "# However, rows with nr==0 carry no binomial information; they will have zero likelihood information.\n",
    "\n",
    "fit_vem <- NULL\n",
    "fit_em_from_vem <- NULL\n",
    "fit_npml <- NULL\n",
    "\n",
    "if (requireNamespace(\"CAMAN\", quietly = TRUE)) {\n",
    "  # Phase 1: VEM (large grid)\n",
    "  fit_vem <- CAMAN::mixalg.VEM(\n",
    "    obs = \"nriron\",\n",
    "    pop.at.risk = \"nr\",\n",
    "    family = \"binomial\",\n",
    "    data = dat,\n",
    "    startk = 50,\n",
    "    acc = 1e-8,\n",
    "    numiter = 20000\n",
    "  )\n",
    "  \n",
    "  # Phase 2: EM, seeding from VEM result\n",
    "  fit_em_from_vem <- CAMAN::mixalg.EM(fit_vem)\n",
    "  \n",
    "  # Direct combined procedure\n",
    "  fit_npml <- CAMAN::mixalg(\n",
    "    obs = \"nriron\",\n",
    "    pop.at.risk = \"nr\",\n",
    "    family = \"binomial\",\n",
    "    data = dat,\n",
    "    startk = 50,\n",
    "    acc = 1e-8,\n",
    "    numiter = 50000,\n",
    "    limit = 0.01\n",
    "  )\n",
    "  \n",
    "  list(\n",
    "    vem_summary = summary(fit_vem),\n",
    "    em_from_vem = fit_em_from_vem,\n",
    "    npml = summary(fit_npml)\n",
    "  )\n",
    "} else {\n",
    "  message(\"CAMAN not available in this runtime. Mixture steps will be skipped. The code is ready and will run where CAMAN is installed.\")\n",
    "  list(vem_summary = NULL, em_from_vem = NULL, npml = NULL)\n",
    "}\n"
   ]
  },
  {
   "cell_type": "code",
   "execution_count": 7,
   "id": "6ba899b5",
   "metadata": {
    "execution": {
     "iopub.execute_input": "2025-08-22T20:22:29.948753Z",
     "iopub.status.busy": "2025-08-22T20:22:29.946067Z",
     "iopub.status.idle": "2025-08-22T20:22:29.989889Z",
     "shell.execute_reply": "2025-08-22T20:22:29.985815Z"
    },
    "vscode": {
     "languageId": "r"
    }
   },
   "outputs": [
    {
     "name": "stderr",
     "output_type": "stream",
     "text": [
      "Skipping gradient plot; CAMAN fit not available in this runtime.\n",
      "\n"
     ]
    },
    {
     "data": {
      "text/html": [
       "NA"
      ],
      "text/latex": [
       "NA"
      ],
      "text/markdown": [
       "NA"
      ],
      "text/plain": [
       "[1] NA"
      ]
     },
     "metadata": {},
     "output_type": "display_data"
    }
   ],
   "source": [
    "## 5) Gradient function d(Ĝ, p) for Binomial mixture (NPMLE diagnostic)\n",
    "# Use fitted NPML from fit_npml (only if CAMAN was available)\n",
    "\n",
    "if (!is.null(fit_npml)) {\n",
    "  # Extract support and weights\n",
    "  p_hat <- fit_npml@t\n",
    "  pi_hat <- fit_npml@p\n",
    "  \n",
    "  # Gradient function for Binomial mixture\n",
    "  grad_binom <- function(p, y, n, pis, ps){\n",
    "    denom <- vapply(seq_along(y), function(i) {\n",
    "      sum(pis * dbinom(y[i], n[i], ps))\n",
    "    }, numeric(1))\n",
    "    # include all rows; for nr==0 the density is dbinom(0,0,p) == 1 for all p; safe\n",
    "    mean(dbinom(y, n, p) / denom)\n",
    "  }\n",
    "  \n",
    "  p_grid <- seq(1e-4, 1 - 1e-4, length.out = 800)\n",
    "  d_vals <- sapply(p_grid, grad_binom,\n",
    "                   y = dat$nriron, n = dat$nr,\n",
    "                   pis = pi_hat, ps = p_hat)\n",
    "  \n",
    "  g_grad <- ggplot(data.frame(p = p_grid, d = d_vals), aes(p, d)) +\n",
    "    geom_line() +\n",
    "    geom_hline(yintercept = 1, linetype = 2) +\n",
    "    geom_vline(xintercept = p_hat, colour = \"red\", alpha = .6) +\n",
    "    labs(title = \"Gradient d(Ĝ, p) – Binomial mixture NPMLE check\",\n",
    "         x = \"p\", y = \"d(Ĝ, p)\")\n",
    "  \n",
    "  ggsave(\"figs/gradient_binomial.png\", g_grad, width = 7, height = 4.5, dpi = 150)\n",
    "  \n",
    "  \"figs/gradient_binomial.png\"\n",
    "} else {\n",
    "  message(\"Skipping gradient plot; CAMAN fit not available in this runtime.\")\n",
    "  NA_character_\n",
    "}\n"
   ]
  },
  {
   "cell_type": "code",
   "execution_count": 8,
   "id": "beea0063",
   "metadata": {
    "execution": {
     "iopub.execute_input": "2025-08-22T20:22:29.996061Z",
     "iopub.status.busy": "2025-08-22T20:22:29.994509Z",
     "iopub.status.idle": "2025-08-22T20:22:30.047811Z",
     "shell.execute_reply": "2025-08-22T20:22:30.043559Z"
    },
    "vscode": {
     "languageId": "r"
    }
   },
   "outputs": [
    {
     "name": "stderr",
     "output_type": "stream",
     "text": [
      "Skipping overlay plot; CAMAN fit not available in this runtime.\n",
      "\n"
     ]
    },
    {
     "data": {
      "text/html": [
       "NA"
      ],
      "text/latex": [
       "NA"
      ],
      "text/markdown": [
       "NA"
      ],
      "text/plain": [
       "[1] NA"
      ]
     },
     "metadata": {},
     "output_type": "display_data"
    }
   ],
   "source": [
    "## 6) Overlay of mixture vs observed distribution of the outcome\n",
    "# We overlay component-wise expected probability mass over the empirical distribution of y/n\n",
    "# Because Binomial mixtures are about counts, we visualize the implied distribution of p (support t)\n",
    "# against the histogram of observed proportions.\n",
    "\n",
    "if (!is.null(fit_npml)) {\n",
    "  # Density of proportions (histogram) + vertical lines at support points\n",
    "  p_overlay <- ggplot(dat, aes(x = prop_ok)) +\n",
    "    geom_histogram(aes(y = after_stat(density)), bins = 30, fill = \"grey85\", color = \"white\") +\n",
    "    geom_vline(xintercept = p_hat, color = \"steelblue\", alpha = 0.7) +\n",
    "    geom_point(data = data.frame(p = p_hat, w = pi_hat), aes(x = p, y = w),\n",
    "               color = \"red\", size = 2) +\n",
    "    labs(title = \"Observed proportion distribution with mixing support and weights\",\n",
    "         x = \"nriron / nr\", y = \"Density / Weights\")\n",
    "  \n",
    "  ggsave(\"figs/overlay_mixture_NR3.png\", p_overlay, width = 7, height = 4.5, dpi = 150)\n",
    "  \n",
    "  \"figs/overlay_mixture_NR3.png\"\n",
    "} else {\n",
    "  message(\"Skipping overlay plot; CAMAN fit not available in this runtime.\")\n",
    "  NA_character_\n",
    "}\n"
   ]
  },
  {
   "cell_type": "code",
   "execution_count": 9,
   "id": "02d179ef",
   "metadata": {
    "execution": {
     "iopub.execute_input": "2025-08-22T20:22:30.059265Z",
     "iopub.status.busy": "2025-08-22T20:22:30.054694Z",
     "iopub.status.idle": "2025-08-22T20:22:30.126006Z",
     "shell.execute_reply": "2025-08-22T20:22:30.121504Z"
    },
    "vscode": {
     "languageId": "r"
    }
   },
   "outputs": [
    {
     "data": {
      "text/html": [
       "<dl>\n",
       "\t<dt>$mix_details</dt>\n",
       "\t\t<dd>NULL</dd>\n",
       "\t<dt>$pearson_dispersion_intercept</dt>\n",
       "\t\t<dd>1.64281238610648</dd>\n",
       "\t<dt>$pearson_dispersion_covariates</dt>\n",
       "\t\t<dd>1.64391699090971</dd>\n",
       "\t<dt>$dispersion_reduction</dt>\n",
       "\t\t<dd>-0.00110460480322594</dd>\n",
       "</dl>\n"
      ],
      "text/latex": [
       "\\begin{description}\n",
       "\\item[\\$mix\\_details] NULL\n",
       "\\item[\\$pearson\\_dispersion\\_intercept] 1.64281238610648\n",
       "\\item[\\$pearson\\_dispersion\\_covariates] 1.64391699090971\n",
       "\\item[\\$dispersion\\_reduction] -0.00110460480322594\n",
       "\\end{description}\n"
      ],
      "text/markdown": [
       "$mix_details\n",
       ":   NULL\n",
       "$pearson_dispersion_intercept\n",
       ":   1.64281238610648\n",
       "$pearson_dispersion_covariates\n",
       ":   1.64391699090971\n",
       "$dispersion_reduction\n",
       ":   -0.00110460480322594\n",
       "\n",
       "\n"
      ],
      "text/plain": [
       "$mix_details\n",
       "NULL\n",
       "\n",
       "$pearson_dispersion_intercept\n",
       "[1] 1.642812\n",
       "\n",
       "$pearson_dispersion_covariates\n",
       "[1] 1.643917\n",
       "\n",
       "$dispersion_reduction\n",
       "[1] -0.001104605\n"
      ]
     },
     "metadata": {},
     "output_type": "display_data"
    }
   ],
   "source": [
    "## 7) Extract mixture details and concise interpretation helpers\n",
    "mix_details <- if (!is.null(fit_npml)) {\n",
    "  list(\n",
    "    g_hat = fit_npml@num.k,\n",
    "    support_p = fit_npml@t,\n",
    "    weights = fit_npml@p,\n",
    "    logLik = fit_npml@ll\n",
    "  )\n",
    "} else {\n",
    "  NULL\n",
    "}\n",
    "\n",
    "# Pearson dispersion before and after covariates\n",
    "phi0 <- phi\n",
    "phi1 <- phi_X\n",
    "\n",
    "list(mix_details = mix_details, pearson_dispersion_intercept = phi0,\n",
    "     pearson_dispersion_covariates = phi1,\n",
    "     dispersion_reduction = phi0 - phi1)\n"
   ]
  },
  {
   "cell_type": "code",
   "execution_count": 10,
   "id": "4b420f17",
   "metadata": {
    "execution": {
     "iopub.execute_input": "2025-08-22T20:22:30.138477Z",
     "iopub.status.busy": "2025-08-22T20:22:30.132606Z",
     "iopub.status.idle": "2025-08-22T20:22:30.205240Z",
     "shell.execute_reply": "2025-08-22T20:22:30.201198Z"
    },
    "vscode": {
     "languageId": "r"
    }
   },
   "outputs": [
    {
     "data": {
      "text/html": [
       "'analysis_results.json'"
      ],
      "text/latex": [
       "'analysis\\_results.json'"
      ],
      "text/markdown": [
       "'analysis_results.json'"
      ],
      "text/plain": [
       "[1] \"analysis_results.json\""
      ]
     },
     "metadata": {},
     "output_type": "display_data"
    }
   ],
   "source": [
    "## 8) Export key results for README update\n",
    "results <- list(\n",
    "  phi_intercept = unname(phi),\n",
    "  phi_covariates = unname(phi_X),\n",
    "  g_hat = if (!is.null(mix_details)) mix_details$g_hat else NA_integer_,\n",
    "  support_p = if (!is.null(mix_details)) mix_details$support_p else NA,\n",
    "  weights = if (!is.null(mix_details)) mix_details$weights else NA,\n",
    "  logLik = if (!is.null(mix_details)) mix_details$logLik else NA\n",
    ")\n",
    "write_json(results, \"analysis_results.json\", pretty = TRUE)\n",
    "\"analysis_results.json\"\n"
   ]
  },
  {
   "cell_type": "code",
   "execution_count": 11,
   "id": "51967406",
   "metadata": {
    "execution": {
     "iopub.execute_input": "2025-08-22T20:22:30.215621Z",
     "iopub.status.busy": "2025-08-22T20:22:30.212786Z",
     "iopub.status.idle": "2025-08-22T20:22:30.272409Z",
     "shell.execute_reply": "2025-08-22T20:22:30.268484Z"
    },
    "vscode": {
     "languageId": "r"
    }
   },
   "outputs": [
    {
     "data": {
      "text/html": [
       "'descriptives.json'"
      ],
      "text/latex": [
       "'descriptives.json'"
      ],
      "text/markdown": [
       "'descriptives.json'"
      ],
      "text/plain": [
       "[1] \"descriptives.json\""
      ]
     },
     "metadata": {},
     "output_type": "display_data"
    }
   ],
   "source": [
    "## 9) Export descriptive statistics\n",
    "sex_counts <- as.list(table(dat$SEX, useNA = \"ifany\"))\n",
    "descr <- list(\n",
    "  N = nrow(dat),\n",
    "  AGE = list(mean = mean(dat$AGE, na.rm = TRUE), sd = sd(dat$AGE, na.rm = TRUE),\n",
    "             min = min(dat$AGE, na.rm = TRUE), max = max(dat$AGE, na.rm = TRUE),\n",
    "             n_missing = sum(is.na(dat$AGE))),\n",
    "  SEX = sex_counts,\n",
    "  NR = list(mean = mean(dat$nr, na.rm = TRUE), sd = sd(dat$nr, na.rm = TRUE),\n",
    "            min = min(dat$nr, na.rm = TRUE), max = max(dat$nr, na.rm = TRUE)),\n",
    "  NRIRON = list(mean = mean(dat$nriron, na.rm = TRUE), sd = sd(dat$nriron, na.rm = TRUE),\n",
    "                min = min(dat$nriron, na.rm = TRUE), max = max(dat$nriron, na.rm = TRUE)),\n",
    "  PROP_OK = list(mean = mean(dat$prop_ok, na.rm = TRUE), sd = sd(dat$prop_ok, na.rm = TRUE),\n",
    "                 min = min(dat$prop_ok, na.rm = TRUE), max = max(dat$prop_ok, na.rm = TRUE),\n",
    "                 n_missing = sum(is.na(dat$prop_ok)))\n",
    ")\n",
    "write_json(descr, \"descriptives.json\", pretty = TRUE)\n",
    "\"descriptives.json\"\n"
   ]
  }
 ],
 "metadata": {
  "kernelspec": {
   "display_name": "R",
   "language": "R",
   "name": "ir"
  },
  "language_info": {
   "codemirror_mode": "r",
   "file_extension": ".r",
   "mimetype": "text/x-r-source",
   "name": "R",
   "pygments_lexer": "r",
   "version": "4.1.2"
  }
 },
 "nbformat": 4,
 "nbformat_minor": 5
}
