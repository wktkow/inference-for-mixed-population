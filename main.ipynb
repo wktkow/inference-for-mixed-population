{
 "cells": [
  {
   "cell_type": "markdown",
   "id": "d5929c26",
   "metadata": {},
   "source": [
    "# AMT Homework: Inference for Mixed Populations (2024–2025)\n",
    "\n",
    "Data: `hemodialysismix.csv` and `hemodialysismix.rds` (equivalent content). Outcome of interest: number of occasions with adequate iron stores (`nriron`) out of the number of measurements (`nr`). Covariates: `AGE`, `SEX`.\n",
    "\n",
    "Notes:\n",
    "- All missing data (e.g., `NA`) are treated as valid observations and are included. No deletions.\n",
    "- Analyses follow the course notes (CAMAN VEM→EM, NPMLE gradient check) and the assignment in `task.md`.\n",
    "- Figures are saved under `figs/`.\n"
   ]
  },
  {
   "cell_type": "code",
   "execution_count": null,
   "id": "331759a5",
   "metadata": {
    "vscode": {
     "languageId": "r"
    }
   },
   "outputs": [],
   "source": [
    "## 0) Setup: packages, options, directories\n",
    "suppressPackageStartupMessages({\n",
    "  library(dplyr)\n",
    "  library(ggplot2)\n",
    "  library(readr)\n",
    "  library(forcats)\n",
    "  library(jsonlite)\n",
    "})\n",
    "\n",
    "set.seed(123)\n",
    "\n",
    "dir.create(\"figs\", showWarnings = FALSE)\n",
    "\n",
    "theme_set(theme_bw(base_size = 12))\n",
    "\n",
    "options(dplyr.summarise.inform = FALSE)\n",
    "\n"
   ]
  },
  {
   "cell_type": "code",
   "execution_count": null,
   "id": "193de65d",
   "metadata": {
    "vscode": {
     "languageId": "r"
    }
   },
   "outputs": [],
   "source": [
    "## 1) Read and prepare data (include missing as valid)\n",
    "# Prefer CSV; RDS contains the same data\n",
    "raw <- read_csv(\"hemodialysismix.csv\", show_col_types = FALSE)\n",
    "\n",
    "# Prepare variables; keep all rows (no deletions), allow nr==0\n",
    "# Treat SEX missing as explicit level \"Unknown\"; leave AGE missing but keep as is\n",
    "# Create a missingness indicator for AGE for regression later\n",
    "\n",
    "dat <- raw %>%\n",
    "  mutate(\n",
    "    SEX = factor(SEX, levels = c(1,2), labels = c(\"Male\",\"Female\")),\n",
    "    SEX = addNA(SEX),  # includes NA as a level\n",
    "    SEX = fct_explicit_na(SEX, na_level = \"Unknown\"),\n",
    "    AGE = suppressWarnings(as.numeric(AGE)),\n",
    "    age_missing = if_else(is.na(AGE), 1L, 0L),\n",
    "    AGE_imputed = if_else(is.na(AGE), NA_real_, AGE),\n",
    "    # leave imputation for model step (we will center and impute to mean with indicator)\n",
    "    prop_ok = if_else(nr > 0, nriron / nr, NA_real_)  # undefined if nr==0\n",
    "  )\n",
    "\n",
    "glue <- function(...) paste0(...)\n",
    "\n",
    "# Basic structure\n",
    "nrow_dat <- nrow(dat)\n",
    "colSums_na <- sapply(dat[,c(\"AGE\",\"SEX\",\"nriron\",\"nr\")], function(x) sum(is.na(x)))\n",
    "list(n_rows = nrow_dat, na_counts = colSums_na)\n"
   ]
  },
  {
   "cell_type": "code",
   "execution_count": null,
   "id": "14efebde",
   "metadata": {
    "vscode": {
     "languageId": "r"
    }
   },
   "outputs": [],
   "source": [
    "## 1.1) Descriptive statistics (no modeling)\n",
    "# Summary for numeric variables and counts for factors\n",
    "summ <- list(\n",
    "  N = nrow(dat),\n",
    "  AGE = list(mean = mean(dat$AGE, na.rm = TRUE), sd = sd(dat$AGE, na.rm = TRUE),\n",
    "             min = min(dat$AGE, na.rm = TRUE), max = max(dat$AGE, na.rm = TRUE),\n",
    "             n_missing = sum(is.na(dat$AGE))),\n",
    "  SEX = list(counts = as.list(table(dat$SEX, useNA = \"ifany\"))),\n",
    "  nriron = list(mean = mean(dat$nriron, na.rm = TRUE), sd = sd(dat$nriron, na.rm = TRUE),\n",
    "                min = min(dat$nriron, na.rm = TRUE), max = max(dat$nriron, na.rm = TRUE)),\n",
    "  nr = list(mean = mean(dat$nr, na.rm = TRUE), sd = sd(dat$nr, na.rm = TRUE),\n",
    "            min = min(dat$nr, na.rm = TRUE), max = max(dat$nr, na.rm = TRUE)),\n",
    "  prop_ok = list(mean = mean(dat$prop_ok, na.rm = TRUE), sd = sd(dat$prop_ok, na.rm = TRUE),\n",
    "                 min = min(dat$prop_ok, na.rm = TRUE), max = max(dat$prop_ok, na.rm = TRUE),\n",
    "                 n_missing = sum(is.na(dat$prop_ok)))\n",
    ")\n",
    "print(summ)\n",
    "\n",
    "# Histograms: proportion (density of adequate iron stores), counts, number of measurements\n",
    "p1 <- ggplot(dat, aes(x = prop_ok)) +\n",
    "  geom_histogram(bins = 30, color = \"white\") +\n",
    "  labs(x = \"nriron / nr (proportion adequate)\", y = \"Number of patients\",\n",
    "       title = \"Proportion of adequate iron stores\")\n",
    "\n",
    "ggsave(\"figs/p_hat_hist.png\", p1, width = 7, height = 4.5, dpi = 150)\n",
    "\n",
    "p2 <- ggplot(dat, aes(x = nriron)) +\n",
    "  geom_histogram(binwidth = 1, boundary = -0.5, color = \"white\") +\n",
    "  scale_x_continuous(breaks = 0:max(dat$nriron, na.rm = TRUE)) +\n",
    "  labs(x = \"Number of occasions with adequate iron stores (nriron)\", y = \"Number of patients\",\n",
    "       title = \"Counts of adequate iron stores\")\n",
    "\n",
    "ggsave(\"figs/nriron_hist.png\", p2, width = 7, height = 4.5, dpi = 150)\n",
    "\n",
    "p3 <- ggplot(dat, aes(x = nr)) +\n",
    "  geom_histogram(binwidth = 1, boundary = -0.5, color = \"white\") +\n",
    "  scale_x_continuous(breaks = 0:max(dat$nr, na.rm = TRUE)) +\n",
    "  labs(x = \"Number of measurements (nr)\", y = \"Number of patients\",\n",
    "       title = \"Distribution of number of measurements\")\n",
    "\n",
    "ggsave(\"figs/nr_hist.png\", p3, width = 7, height = 4.5, dpi = 150)\n",
    "\n",
    "list(figs = list(\"figs/p_hat_hist.png\",\"figs/nriron_hist.png\",\"figs/nr_hist.png\"))\n"
   ]
  },
  {
   "cell_type": "code",
   "execution_count": null,
   "id": "9f0365ca",
   "metadata": {
    "vscode": {
     "languageId": "r"
    }
   },
   "outputs": [],
   "source": [
    "## 2) Intercept-only Binomial GLM; Pearson dispersion\n",
    "# Include all rows; if nr==0, Binomial contribution is undefined, so we set weights=0\n",
    "# But assignment asks to include missing/NA; keep rows but ensure modeling is well-defined\n",
    "\n",
    "dat_glm0 <- dat %>% mutate(\n",
    "  y_success = nriron,\n",
    "  y_failure = pmax(nr - nriron, 0L),\n",
    "  w = if_else(nr > 0 & !is.na(y_success) & !is.na(y_failure), 1, 0)\n",
    ")\n",
    "\n",
    "m_bin0 <- glm(cbind(y_success, y_failure) ~ 1,\n",
    "              family = binomial(), data = dat_glm0, weights = w)\n",
    "\n",
    "pearson_r <- residuals(m_bin0, type = \"pearson\")\n",
    "phi <- sum(pearson_r^2, na.rm = TRUE) / df.residual(m_bin0)\n",
    "\n",
    "list(\n",
    "  intercept_only = coef(summary(m_bin0)),\n",
    "  pearson_dispersion = unname(phi)\n",
    ")\n",
    "\n"
   ]
  },
  {
   "cell_type": "code",
   "execution_count": null,
   "id": "09d944e7",
   "metadata": {
    "vscode": {
     "languageId": "r"
    }
   },
   "outputs": [],
   "source": [
    "## 3) Binomial GLM with covariates (AGE, SEX); compare dispersion\n",
    "# Handle AGE missing by mean-imputation plus missingness indicator to keep all rows\n",
    "mu_age <- mean(dat$AGE, na.rm = TRUE)\n",
    "\n",
    "dat_glmX <- dat %>% mutate(\n",
    "  AGE_imp = if_else(is.na(AGE), mu_age, AGE),\n",
    "  y_success = nriron,\n",
    "  y_failure = pmax(nr - nriron, 0L),\n",
    "  w = if_else(nr > 0 & !is.na(y_success) & !is.na(y_failure), 1, 0)\n",
    ")\n",
    "\n",
    "m_binX <- glm(cbind(y_success, y_failure) ~ AGE_imp + age_missing + SEX,\n",
    "              family = binomial(), data = dat_glmX, weights = w)\n",
    "\n",
    "phi_X <- {\n",
    "  rp <- residuals(m_binX, type = \"pearson\")\n",
    "  sum(rp^2, na.rm = TRUE) / df.residual(m_binX)\n",
    "}\n",
    "\n",
    "list(\n",
    "  covariate_model = coef(summary(m_binX)),\n",
    "  pearson_dispersion = unname(phi_X)\n",
    ")\n"
   ]
  },
  {
   "cell_type": "code",
   "execution_count": null,
   "id": "0cfee53e",
   "metadata": {
    "vscode": {
     "languageId": "r"
    }
   },
   "outputs": [],
   "source": [
    "## 4) CAMAN: Binomial mixture via VEM → EM and direct mixalg\n",
    "# Use the counts (nriron) with trials (nr)\n",
    "# Keep all rows; CAMAN naturally accommodates different ni. We keep rows with nr==0 as well.\n",
    "# However, rows with nr==0 carry no binomial information; they will have zero likelihood information.\n",
    "\n",
    "fit_vem <- NULL\n",
    "fit_em_from_vem <- NULL\n",
    "fit_npml <- NULL\n",
    "\n",
    "if (requireNamespace(\"CAMAN\", quietly = TRUE)) {\n",
    "  # Phase 1: VEM (large grid)\n",
    "  fit_vem <- CAMAN::mixalg.VEM(\n",
    "    obs = \"nriron\",\n",
    "    pop.at.risk = \"nr\",\n",
    "    family = \"binomial\",\n",
    "    data = dat,\n",
    "    startk = 50,\n",
    "    acc = 1e-8,\n",
    "    numiter = 20000\n",
    "  )\n",
    "  \n",
    "  # Phase 2: EM, seeding from VEM result\n",
    "  fit_em_from_vem <- CAMAN::mixalg.EM(fit_vem)\n",
    "  \n",
    "  # Direct combined procedure\n",
    "  fit_npml <- CAMAN::mixalg(\n",
    "    obs = \"nriron\",\n",
    "    pop.at.risk = \"nr\",\n",
    "    family = \"binomial\",\n",
    "    data = dat,\n",
    "    startk = 50,\n",
    "    acc = 1e-8,\n",
    "    numiter = 50000,\n",
    "    limit = 0.01\n",
    "  )\n",
    "  \n",
    "  list(\n",
    "    vem_summary = summary(fit_vem),\n",
    "    em_from_vem = fit_em_from_vem,\n",
    "    npml = summary(fit_npml)\n",
    "  )\n",
    "} else {\n",
    "  message(\"CAMAN not available in this runtime. Mixture steps will be skipped. The code is ready and will run where CAMAN is installed.\")\n",
    "  list(vem_summary = NULL, em_from_vem = NULL, npml = NULL)\n",
    "}\n"
   ]
  },
  {
   "cell_type": "code",
   "execution_count": null,
   "id": "6ba899b5",
   "metadata": {
    "vscode": {
     "languageId": "r"
    }
   },
   "outputs": [],
   "source": [
    "## 5) Gradient function d(Ĝ, p) for Binomial mixture (NPMLE diagnostic)\n",
    "# Use fitted NPML from fit_npml (only if CAMAN was available)\n",
    "\n",
    "if (!is.null(fit_npml)) {\n",
    "  # Extract support and weights\n",
    "  p_hat <- fit_npml@t\n",
    "  pi_hat <- fit_npml@p\n",
    "  \n",
    "  # Gradient function for Binomial mixture\n",
    "  grad_binom <- function(p, y, n, pis, ps){\n",
    "    denom <- vapply(seq_along(y), function(i) {\n",
    "      sum(pis * dbinom(y[i], n[i], ps))\n",
    "    }, numeric(1))\n",
    "    # include all rows; for nr==0 the density is dbinom(0,0,p) == 1 for all p; safe\n",
    "    mean(dbinom(y, n, p) / denom)\n",
    "  }\n",
    "  \n",
    "  p_grid <- seq(1e-4, 1 - 1e-4, length.out = 800)\n",
    "  d_vals <- sapply(p_grid, grad_binom,\n",
    "                   y = dat$nriron, n = dat$nr,\n",
    "                   pis = pi_hat, ps = p_hat)\n",
    "  \n",
    "  g_grad <- ggplot(data.frame(p = p_grid, d = d_vals), aes(p, d)) +\n",
    "    geom_line() +\n",
    "    geom_hline(yintercept = 1, linetype = 2) +\n",
    "    geom_vline(xintercept = p_hat, colour = \"red\", alpha = .6) +\n",
    "    labs(title = \"Gradient d(Ĝ, p) – Binomial mixture NPMLE check\",\n",
    "         x = \"p\", y = \"d(Ĝ, p)\")\n",
    "  \n",
    "  ggsave(\"figs/gradient_binomial.png\", g_grad, width = 7, height = 4.5, dpi = 150)\n",
    "  \n",
    "  \"figs/gradient_binomial.png\"\n",
    "} else {\n",
    "  message(\"Skipping gradient plot; CAMAN fit not available in this runtime.\")\n",
    "  NA_character_\n",
    "}\n"
   ]
  },
  {
   "cell_type": "code",
   "execution_count": null,
   "id": "beea0063",
   "metadata": {
    "vscode": {
     "languageId": "r"
    }
   },
   "outputs": [],
   "source": [
    "## 6) Overlay of mixture vs observed distribution of the outcome\n",
    "# We overlay component-wise expected probability mass over the empirical distribution of y/n\n",
    "# Because Binomial mixtures are about counts, we visualize the implied distribution of p (support t)\n",
    "# against the histogram of observed proportions.\n",
    "\n",
    "if (!is.null(fit_npml)) {\n",
    "  # Density of proportions (histogram) + vertical lines at support points\n",
    "  p_overlay <- ggplot(dat, aes(x = prop_ok)) +\n",
    "    geom_histogram(aes(y = after_stat(density)), bins = 30, fill = \"grey85\", color = \"white\") +\n",
    "    geom_vline(xintercept = p_hat, color = \"steelblue\", alpha = 0.7) +\n",
    "    geom_point(data = data.frame(p = p_hat, w = pi_hat), aes(x = p, y = w),\n",
    "               color = \"red\", size = 2) +\n",
    "    labs(title = \"Observed proportion distribution with mixing support and weights\",\n",
    "         x = \"nriron / nr\", y = \"Density / Weights\")\n",
    "  \n",
    "  ggsave(\"figs/overlay_mixture_NR3.png\", p_overlay, width = 7, height = 4.5, dpi = 150)\n",
    "  \n",
    "  \"figs/overlay_mixture_NR3.png\"\n",
    "} else {\n",
    "  message(\"Skipping overlay plot; CAMAN fit not available in this runtime.\")\n",
    "  NA_character_\n",
    "}\n"
   ]
  },
  {
   "cell_type": "code",
   "execution_count": null,
   "id": "02d179ef",
   "metadata": {
    "vscode": {
     "languageId": "r"
    }
   },
   "outputs": [],
   "source": [
    "## 7) Extract mixture details and concise interpretation helpers\n",
    "mix_details <- if (!is.null(fit_npml)) {\n",
    "  list(\n",
    "    g_hat = fit_npml@num.k,\n",
    "    support_p = fit_npml@t,\n",
    "    weights = fit_npml@p,\n",
    "    logLik = fit_npml@ll\n",
    "  )\n",
    "} else {\n",
    "  NULL\n",
    "}\n",
    "\n",
    "# Pearson dispersion before and after covariates\n",
    "phi0 <- phi\n",
    "phi1 <- phi_X\n",
    "\n",
    "list(mix_details = mix_details, pearson_dispersion_intercept = phi0,\n",
    "     pearson_dispersion_covariates = phi1,\n",
    "     dispersion_reduction = phi0 - phi1)\n"
   ]
  },
  {
   "cell_type": "code",
   "execution_count": null,
   "id": "4b420f17",
   "metadata": {
    "vscode": {
     "languageId": "r"
    }
   },
   "outputs": [],
   "source": [
    "## 8) Export key results for README update\n",
    "results <- list(\n",
    "  phi_intercept = unname(phi),\n",
    "  phi_covariates = unname(phi_X),\n",
    "  g_hat = if (!is.null(mix_details)) mix_details$g_hat else NA_integer_,\n",
    "  support_p = if (!is.null(mix_details)) mix_details$support_p else NA,\n",
    "  weights = if (!is.null(mix_details)) mix_details$weights else NA,\n",
    "  logLik = if (!is.null(mix_details)) mix_details$logLik else NA\n",
    ")\n",
    "write_json(results, \"analysis_results.json\", pretty = TRUE)\n",
    "\"analysis_results.json\"\n"
   ]
  },
  {
   "cell_type": "code",
   "execution_count": null,
   "id": "51967406",
   "metadata": {
    "vscode": {
     "languageId": "r"
    }
   },
   "outputs": [],
   "source": [
    "## 9) Export descriptive statistics\n",
    "sex_counts <- as.list(table(dat$SEX, useNA = \"ifany\"))\n",
    "descr <- list(\n",
    "  N = nrow(dat),\n",
    "  AGE = list(mean = mean(dat$AGE, na.rm = TRUE), sd = sd(dat$AGE, na.rm = TRUE),\n",
    "             min = min(dat$AGE, na.rm = TRUE), max = max(dat$AGE, na.rm = TRUE),\n",
    "             n_missing = sum(is.na(dat$AGE))),\n",
    "  SEX = sex_counts,\n",
    "  NR = list(mean = mean(dat$nr, na.rm = TRUE), sd = sd(dat$nr, na.rm = TRUE),\n",
    "            min = min(dat$nr, na.rm = TRUE), max = max(dat$nr, na.rm = TRUE)),\n",
    "  NRIRON = list(mean = mean(dat$nriron, na.rm = TRUE), sd = sd(dat$nriron, na.rm = TRUE),\n",
    "                min = min(dat$nriron, na.rm = TRUE), max = max(dat$nriron, na.rm = TRUE)),\n",
    "  PROP_OK = list(mean = mean(dat$prop_ok, na.rm = TRUE), sd = sd(dat$prop_ok, na.rm = TRUE),\n",
    "                 min = min(dat$prop_ok, na.rm = TRUE), max = max(dat$prop_ok, na.rm = TRUE),\n",
    "                 n_missing = sum(is.na(dat$prop_ok)))\n",
    ")\n",
    "write_json(descr, \"descriptives.json\", pretty = TRUE)\n",
    "\"descriptives.json\"\n"
   ]
  }
 ],
 "metadata": {
  "kernelspec": {
   "display_name": "R",
   "language": "R",
   "name": "ir"
  },
  "language_info": {
   "name": "R"
  }
 },
 "nbformat": 4,
 "nbformat_minor": 5
}
