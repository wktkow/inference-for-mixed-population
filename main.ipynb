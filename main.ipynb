{
 "cells": [
  {
   "cell_type": "code",
   "execution_count": null,
   "id": "6144dff0",
   "metadata": {
    "vscode": {
     "languageId": "r"
    }
   },
   "outputs": [],
   "source": [
    "# AMT Homework: Inference for Mixed Populations (Hemodialysis)\n",
    "# Setup and data loading (R)\n",
    "\n",
    "suppressPackageStartupMessages({\n",
    "  library(readr)\n",
    "  library(dplyr)\n",
    "  library(ggplot2)\n",
    "  library(tidyr)\n",
    "  library(purrr)\n",
    "})\n",
    "\n",
    "# Read data without dropping NAs; treat NAs as valid levels later where needed\n",
    "path_csv <- \"./hemodialysismix.csv\"\n",
    "raw <- read_csv(path_csv, show_col_types = FALSE, na = c(\"\", \"NA\"))\n",
    "\n",
    "# Harmonize column names to match assignment wording\n",
    "# ID, AGE, SEX, NR, NRIRON\n",
    "dat <- raw %>%\n",
    "  rename(\n",
    "    ID = ID,\n",
    "    SEX = SEX,\n",
    "    AGE = AGE,\n",
    "    NRIRON = nriron,\n",
    "    NR = nr\n",
    "  ) %>%\n",
    "  mutate(\n",
    "    # Ensure integer types\n",
    "    NR = as.integer(NR),\n",
    "    NRIRON = as.integer(NRIRON),\n",
    "    AGE = as.integer(AGE),\n",
    "    SEX = as.integer(SEX)\n",
    "  )\n",
    "\n",
    "# Basic structure\n",
    "list(\n",
    "  n_rows = nrow(dat),\n",
    "  head = head(dat),\n",
    "  missing = sapply(dat, function(x) sum(is.na(x)))\n",
    ")\n"
   ]
  },
  {
   "cell_type": "code",
   "execution_count": null,
   "id": "03469469",
   "metadata": {
    "vscode": {
     "languageId": "r"
    }
   },
   "outputs": [],
   "source": [
    "# Run full analysis pipeline and load results\n",
    "\n",
    "source(\"./run_analysis.R\")\n",
    "res <- readRDS(\"analysis_results.rds\")\n",
    "\n",
    "list(\n",
    "  dispersion_intercept_only = res$phi0,\n",
    "  dispersion_with_covariates = res$phi_cov,\n",
    "  mixture_summary = res$mixture_summary\n",
    ")\n"
   ]
  },
  {
   "cell_type": "markdown",
   "id": "6bd60782",
   "metadata": {},
   "source": [
    "### Key figures\n",
    "- Proportion histogram: `figs/p_hat_hist.png`\n",
    "- Counts histogram: `figs/nriron_hist.png`\n",
    "- NR histogram: `figs/nr_hist.png`\n",
    "- Mixture components: `figs/mixture_components.png`\n",
    "- Age by component: `figs/age_by_component.png`\n",
    "- Sex by component: `figs/sex_by_component.png`\n",
    "- Overlay mixture vs. empirical: `figs/overlay_mixture_NR3.png`\n",
    "- Gradient function (if available): `figs/gradient_binomial.png`\n"
   ]
  }
 ],
 "metadata": {
  "kernelspec": {
   "display_name": "R",
   "language": "R",
   "name": "ir"
  },
  "language_info": {
   "name": "R"
  }
 },
 "nbformat": 4,
 "nbformat_minor": 5
}
